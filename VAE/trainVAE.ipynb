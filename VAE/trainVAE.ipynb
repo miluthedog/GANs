{
 "cells": [
  {
   "cell_type": "code",
   "execution_count": null,
   "metadata": {},
   "outputs": [],
   "source": [
    "'''\n",
    "data: MNIST\n",
    "  input: 28x28 pixels of value (0->1)\n",
    "  output: encode and decode MNIST\n",
    "\n",
    "framework: tf.keras\n",
    "model: VAE\n",
    "  layers:\n",
    "    encoder\n",
    "    decoder\n",
    "  params:\n",
    "  hyperparams:\n",
    "  algorithm: VAE-2 MLP\n",
    "\n",
    "result:\n",
    "  test:\n",
    "'''"
   ]
  },
  {
   "cell_type": "code",
   "execution_count": null,
   "metadata": {},
   "outputs": [],
   "source": [
    "import tensorflow as tf\n",
    "import numpy as np\n",
    "import struct\n",
    "\n",
    "with open(\"10kimages.idx3-ubyte\", \"rb\") as file:\n",
    "    magic, num, rows, cols = struct.unpack(\">IIII\", file.read(16))\n",
    "    data = np.frombuffer(file.read(), dtype=np.uint8)\n",
    "    images = data.reshape(num, rows * cols).astype(np.float32) / 255.0"
   ]
  },
  {
   "cell_type": "code",
   "execution_count": null,
   "metadata": {},
   "outputs": [],
   "source": [
    "image_size = 28*28\n",
    "latent_size = 28*2 # sigma-mu"
   ]
  },
  {
   "cell_type": "code",
   "execution_count": null,
   "metadata": {},
   "outputs": [],
   "source": [
    "def models():\n",
    "    global encoder, enopti, decoder, deopti\n",
    "\n",
    "    encoder = tf.keras.models.Sequential([\n",
    "        tf.keras.Input(shape=(image_size,)),\n",
    "        tf.keras.layers.Dense(512, activation=\"relu\"),\n",
    "        tf.keras.layers.Dense(256, activation=\"relu\"),\n",
    "        tf.keras.layers.Dense(256, activation=\"relu\"),\n",
    "        tf.keras.layers.Dense(latent_size)])\n",
    "    enopti = tf.keras.optimizers.Adam()\n",
    "\n",
    "    decoder = tf.keras.models.Sequential([\n",
    "        tf.keras.Input(shape=(latent_size,)),\n",
    "        tf.keras.layers.Dense(128, activation=\"relu\"),\n",
    "        tf.keras.layers.Dense(256, activation=\"relu\"),\n",
    "        tf.keras.layers.Dense(512, activation=\"relu\"),\n",
    "        tf.keras.layers.Dense(image_size, activation=\"sigmoid\")])\n",
    "    deopti = tf.keras.optimizers.Adam()\n",
    "\n",
    "models()"
   ]
  },
  {
   "cell_type": "code",
   "execution_count": null,
   "metadata": {},
   "outputs": [],
   "source": [
    "def parameterization_trick(mu, sigma):\n",
    "    eps = tf.random.normal(shape=tf.shape(mu))\n",
    "    sigma = tf.exp(0.5*sigma)\n",
    "    return mu * eps\n",
    "\n",
    "def train(iterations):\n",
    "    losses = []\n",
    "    for iteration in iterations:\n",
    "        with tf.GradientTape() as tape:\n",
    "            \n",
    "            loss =\n",
    "            losses.append(loss)\n",
    "            if (iteration % 10 == 0):\n",
    "                print(f\"iteration {iteration}: loss = {}\")\n",
    "        ? = tape.gradient(? , ?.trainable_variables)\n",
    "        ?.apply_gradients(zip(?, ?.trainable_variables))\n",
    "\n",
    "\n",
    "    return losses\n"
   ]
  }
 ],
 "metadata": {
  "language_info": {
   "name": "python"
  }
 },
 "nbformat": 4,
 "nbformat_minor": 2
}
