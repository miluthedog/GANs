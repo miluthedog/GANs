{
 "cells": [
  {
   "cell_type": "code",
   "execution_count": null,
   "metadata": {},
   "outputs": [],
   "source": [
    "'''\n",
    "data: MNIST\n",
    "  input: 28x28 pixels of value (0->1)\n",
    "  output: encode and decode MNIST (generative)\n",
    "\n",
    "framework: tf.keras\n",
    "model: WGAN\n",
    "  layers:\n",
    "    discriminator:\n",
    "    generator:\n",
    "  params:\n",
    "  hyperparams:\n",
    "  algorithm: WGAN-2 MLP\n",
    "\n",
    "result: works, output data smoother and easier than vanilla GAN\n",
    "  test:\n",
    "'''"
   ]
  },
  {
   "cell_type": "code",
   "execution_count": null,
   "metadata": {},
   "outputs": [],
   "source": [
    "import numpy as np\n",
    "import tensorflow as tf\n",
    "import matplotlib.pyplot as plt\n",
    "\n",
    "\n"
   ]
  },
  {
   "cell_type": "code",
   "execution_count": null,
   "metadata": {},
   "outputs": [],
   "source": [
    "noise_size = 128\n",
    "image_size = 28*28\n",
    "batch_size = 64"
   ]
  },
  {
   "cell_type": "code",
   "execution_count": null,
   "metadata": {},
   "outputs": [],
   "source": [
    "def models():\n",
    "    global dismodel, disopti, genmodel, genopti\n",
    "\n",
    "    dismodel = tf.keras.models.Sequential([\n",
    "        tf.keras.Input(shape=(image_size,)),\n",
    "        tf.keras.layers.Dense(512, activation=\"relu\"),\n",
    "        tf.keras.layers.Dropout(0.3),\n",
    "        tf.keras.layers.Dense(256, activation=\"relu\"),\n",
    "        tf.keras.layers.Dense(1, activation=\"sigmoid\")])\n",
    "    disopti = tf.keras.optimizers.Adam()\n",
    "\n",
    "    genmodel = tf.keras.models.Sequential([\n",
    "        tf.keras.Input(shape=(noise_size,)),\n",
    "        tf.keras.layers.Dense(128, activation=\"relu\"),\n",
    "        tf.keras.layers.Dense(256, activation=\"relu\"),\n",
    "        tf.keras.layers.Dense(512, activation=\"relu\"),\n",
    "        tf.keras.layers.Dense(image_size, activation=\"sigmoid\")])\n",
    "    genopti = tf.keras.optimizers.Adam()\n",
    "\n",
    "models()"
   ]
  },
  {
   "cell_type": "code",
   "execution_count": null,
   "metadata": {},
   "outputs": [],
   "source": []
  }
 ],
 "metadata": {
  "language_info": {
   "name": "python"
  }
 },
 "nbformat": 4,
 "nbformat_minor": 2
}
