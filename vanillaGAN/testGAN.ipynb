{
 "cells": [
  {
   "cell_type": "code",
   "execution_count": null,
   "id": "8f502c19-d492-441b-8e93-073413026467",
   "metadata": {},
   "outputs": [],
   "source": [
    "import tensorflow as tf\n",
    "import matplotlib.pyplot as plt\n",
    "import numpy as np"
   ]
  },
  {
   "cell_type": "code",
   "execution_count": null,
   "id": "e4229af0-f67a-4d10-86de-afb6c11e1549",
   "metadata": {},
   "outputs": [],
   "source": [
    "noise_size = 128\n",
    "image_size = 28*28\n",
    "batch_size = 1\n",
    "\n",
    "genmodel = tf.keras.models.Sequential([\n",
    "    tf.keras.Input(shape=(noise_size,)),\n",
    "    tf.keras.layers.Dense(128, activation=\"relu\"),\n",
    "    tf.keras.layers.Dense(256, activation=\"relu\"),\n",
    "    tf.keras.layers.Dense(512, activation=\"relu\"),\n",
    "    tf.keras.layers.Dense(image_size, activation=\"sigmoid\")])\n",
    "genopti = tf.keras.optimizers.Adam()\n",
    "\n",
    "genmodel = tf.keras.models.load_model(\"genmodel.keras\")"
   ]
  },
  {
   "cell_type": "code",
   "execution_count": null,
   "id": "87addc7a-2388-41c2-a35b-64d35c692eb0",
   "metadata": {},
   "outputs": [],
   "source": [
    "def generator():\n",
    "    noise = np.random.rand(batch_size, noise_size)\n",
    "    return genmodel(noise, training=True)"
   ]
  },
  {
   "cell_type": "code",
   "execution_count": null,
   "id": "24364b18-b1c5-4a97-a632-fb5bc2e6b81b",
   "metadata": {},
   "outputs": [],
   "source": [
    "def gen():\n",
    "    img = generator()\n",
    "    data = tf.reshape(img, (28, 28)).numpy()\n",
    "\n",
    "    plt.imshow(data, cmap='gray')\n",
    "    plt.axis('off')\n",
    "\n",
    "gen()"
   ]
  }
 ],
 "metadata": {
  "kernelspec": {
   "display_name": "Python 3 (ipykernel)",
   "language": "python",
   "name": "python3"
  },
  "language_info": {
   "codemirror_mode": {
    "name": "ipython",
    "version": 3
   },
   "file_extension": ".py",
   "mimetype": "text/x-python",
   "name": "python",
   "nbconvert_exporter": "python",
   "pygments_lexer": "ipython3",
   "version": "3.12.4"
  }
 },
 "nbformat": 4,
 "nbformat_minor": 5
}
