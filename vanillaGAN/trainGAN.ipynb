{
 "cells": [
  {
   "cell_type": "code",
   "execution_count": 1,
   "id": "04fe2c48-0380-4dcc-bb9c-bdf4dfd42325",
   "metadata": {},
   "outputs": [
    {
     "data": {
      "text/plain": [
       "'\\nmodel: most default model\\n\\n'"
      ]
     },
     "execution_count": 1,
     "metadata": {},
     "output_type": "execute_result"
    }
   ],
   "source": [
    "'''\n",
    "model: most default model\n",
    "\n",
    "'''"
   ]
  },
  {
   "cell_type": "code",
   "execution_count": 20,
   "id": "d6630465-e903-41ee-b09a-7d8f9a90de0f",
   "metadata": {},
   "outputs": [],
   "source": [
    "import numpy as np\n",
    "import tensorflow as tf\n",
    "import matplotlib.pyplot as plt\n",
    "import struct"
   ]
  },
  {
   "cell_type": "code",
   "execution_count": 53,
   "id": "471617a0-ae1f-44b7-b6d4-1e7a0277ff9c",
   "metadata": {},
   "outputs": [],
   "source": [
    "noise_size = 256\n",
    "image_size = 28*28\n",
    "batch_size = 8"
   ]
  },
  {
   "cell_type": "code",
   "execution_count": 41,
   "id": "5a376fe7-240f-4b69-8655-880a5d7c7efa",
   "metadata": {},
   "outputs": [],
   "source": [
    "def read_idx3_ubyte(filename):\n",
    "    with open(filename, \"rb\") as f:\n",
    "        magic, num, rows, cols = struct.unpack(\">IIII\", f.read(16))  # Read header\n",
    "        data = np.frombuffer(f.read(), dtype=np.uint8)  # Read pixel values\n",
    "        return data.reshape(num, rows * cols).astype(np.float32) / 255.0  # Normalize to [0,1]\n",
    "\n",
    "image = read_idx3_ubyte(\"data.idx3-ubyte\")"
   ]
  },
  {
   "cell_type": "code",
   "execution_count": 73,
   "id": "ffce69a0-9336-423a-8fc5-5365187d36a0",
   "metadata": {},
   "outputs": [],
   "source": [
    "def init():\n",
    "    global dismodel, genmodel, disopti, genopti\n",
    "    dismodel = tf.keras.models.Sequential([\n",
    "        tf.keras.Input(shape=(image_size,)),\n",
    "        tf.keras.layers.Dense(16),\n",
    "        tf.keras.layers.LeakyReLU(alpha=0.2),\n",
    "        tf.keras.layers.Dropout(0.2),\n",
    "        tf.keras.layers.Dense(1, activation='sigmoid')])\n",
    "    \n",
    "    genmodel = tf.keras.models.Sequential([\n",
    "        tf.keras.Input(shape=(noise_size,)),  # Increased noise size\n",
    "        tf.keras.layers.Dense(256),\n",
    "        tf.keras.layers.BatchNormalization(momentum=0.7),\n",
    "        tf.keras.layers.LeakyReLU(alpha=0.2),\n",
    "        tf.keras.layers.Dense(512),\n",
    "        tf.keras.layers.BatchNormalization(momentum=0.7),\n",
    "        tf.keras.layers.LeakyReLU(alpha=0.2),\n",
    "        tf.keras.layers.Dense(image_size, activation='sigmoid')])\n",
    "    \n",
    "    disopti = tf.keras.optimizers.Adam(learning_rate=0.0005, beta_1=0.5)  # Reduced learning rate\n",
    "    genopti = tf.keras.optimizers.Adam(learning_rate=0.001, beta_1=0.5)  # Increased learning rate\n",
    "\n",
    "\n"
   ]
  },
  {
   "cell_type": "code",
   "execution_count": 74,
   "id": "9bc4dbcb-4cba-4661-bd74-b912bea31ae3",
   "metadata": {},
   "outputs": [],
   "source": [
    "def discriminator(imgs):\n",
    "    return dismodel(imgs, training=True)\n",
    "\n",
    "def generator():\n",
    "    noise = np.random.uniform(-1, 1, (batch_size, noise_size))\n",
    "    return genmodel(noise, training=True)"
   ]
  },
  {
   "cell_type": "code",
   "execution_count": 75,
   "id": "56cc913c-79bb-421b-9e19-2d50cecfcbc3",
   "metadata": {},
   "outputs": [],
   "source": [
    "def training(iterations):\n",
    "    for iteration in range(iterations + 1):\n",
    "        with tf.GradientTape(persistent = True) as tape:\n",
    "            real_imgs = image[np.random.randint(0, image.shape[0], batch_size)]\n",
    "            fake_imgs = generator()\n",
    "    \n",
    "            real_predicts = discriminator(real_imgs)\n",
    "            fake_predicts = discriminator(fake_imgs)\n",
    "    \n",
    "            real_loss = tf.keras.losses.BinaryCrossentropy(from_logits=False)(tf.ones_like(real_predicts), real_predicts)\n",
    "            fake_loss = tf.keras.losses.BinaryCrossentropy(from_logits=False)(tf.zeros_like(fake_predicts), fake_predicts)\n",
    "            total_loss = real_loss + fake_loss  \n",
    "            print(f\"Iteration {iteration}, Dis Loss: {total_loss:.4}, Gen loss: {fake_loss:.4}\")\n",
    "    \n",
    "        dis_gradients = tape.gradient(total_loss, dismodel.trainable_variables)\n",
    "        disopti.apply_gradients(zip(dis_gradients, dismodel.trainable_variables))\n",
    "        gen_gradients = tape.gradient(fake_loss, genmodel.trainable_variables)\n",
    "        genopti.apply_gradients(zip(gen_gradients, genmodel.trainable_variables))"
   ]
  },
  {
   "cell_type": "code",
   "execution_count": 76,
   "id": "39db1a38-1d1f-48f8-abe8-1749a20b89db",
   "metadata": {},
   "outputs": [],
   "source": [
    "def test_gen(rows, cols):\n",
    "    data = generator()\n",
    "    data = tf.reshape(data, (-1, 28, 28))\n",
    "\n",
    "    fig, axes = plt.subplots(rows, cols, figsize=(cols * 2, rows * 2))\n",
    "\n",
    "    for i in range(rows):\n",
    "        for j in range(cols):\n",
    "            img = data[i * cols + j]\n",
    "            axes[i, j].imshow(img, cmap='gray')\n",
    "            axes[i, j].axis('off')\n",
    "    plt.tight_layout()\n",
    "    plt.show()"
   ]
  },
  {
   "cell_type": "code",
   "execution_count": 77,
   "id": "0aca954c-29d2-4633-9082-5e8b158e3a15",
   "metadata": {},
   "outputs": [
    {
     "name": "stdout",
     "output_type": "stream",
     "text": [
      "Iteration 0, Dis Loss: 0.9914, Gen loss: 0.4041\n",
      "Iteration 1, Dis Loss: 0.8292, Gen loss: 0.1756\n",
      "Iteration 2, Dis Loss: 0.823, Gen loss: 0.05195\n",
      "Iteration 3, Dis Loss: 0.7971, Gen loss: 0.05737\n",
      "Iteration 4, Dis Loss: 0.5198, Gen loss: 0.03216\n",
      "Iteration 5, Dis Loss: 0.5188, Gen loss: 0.009183\n",
      "Iteration 6, Dis Loss: 0.5582, Gen loss: 0.01812\n",
      "Iteration 7, Dis Loss: 0.3939, Gen loss: 0.02288\n",
      "Iteration 8, Dis Loss: 0.4974, Gen loss: 0.008032\n",
      "Iteration 9, Dis Loss: 0.3606, Gen loss: 0.01328\n",
      "Iteration 10, Dis Loss: 0.4305, Gen loss: 0.02158\n",
      "Iteration 11, Dis Loss: 0.3615, Gen loss: 0.01807\n",
      "Iteration 12, Dis Loss: 0.2371, Gen loss: 0.005209\n",
      "Iteration 13, Dis Loss: 0.3409, Gen loss: 0.01116\n",
      "Iteration 14, Dis Loss: 0.1959, Gen loss: 0.006485\n",
      "Iteration 15, Dis Loss: 0.2488, Gen loss: 0.01472\n",
      "Iteration 16, Dis Loss: 0.2365, Gen loss: 0.005728\n",
      "Iteration 17, Dis Loss: 0.1518, Gen loss: 0.01196\n",
      "Iteration 18, Dis Loss: 0.2204, Gen loss: 0.00217\n",
      "Iteration 19, Dis Loss: 0.2103, Gen loss: 0.02223\n",
      "Iteration 20, Dis Loss: 0.1546, Gen loss: 0.002206\n"
     ]
    },
    {
     "data": {
      "image/png": "[encoded data removed]",
      "text/plain": [
       "<Figure size 800x400 with 8 Axes>"
      ]
     },
     "metadata": {},
     "output_type": "display_data"
    }
   ],
   "source": [
    "loop = 20\n",
    "\n",
    "def train():\n",
    "    init()\n",
    "    training(loop)\n",
    "    test_gen(2, 4)\n",
    "\n",
    "\n",
    "train()"
   ]
  },
  {
   "cell_type": "code",
   "execution_count": null,
   "id": "b96f98b8-4731-4b3d-a2a6-e173c1be25d6",
   "metadata": {},
   "outputs": [],
   "source": []
  },
  {
   "cell_type": "code",
   "execution_count": null,
   "id": "5d3d945e-49e8-4d48-b977-041b45864e21",
   "metadata": {},
   "outputs": [],
   "source": []
  }
 ],
 "metadata": {
  "kernelspec": {
   "display_name": "Python 3 (ipykernel)",
   "language": "python",
   "name": "python3"
  },
  "language_info": {
   "codemirror_mode": {
    "name": "ipython",
    "version": 3
   },
   "file_extension": ".py",
   "mimetype": "text/x-python",
   "name": "python",
   "nbconvert_exporter": "python",
   "pygments_lexer": "ipython3",
   "version": "3.12.4"
  }
 },
 "nbformat": 4,
 "nbformat_minor": 5
}
