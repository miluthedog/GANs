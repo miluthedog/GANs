{
 "cells": [
  {
   "cell_type": "code",
   "execution_count": null,
   "id": "922ef20d-a9ec-4062-8f20-1a8d899f90d9",
   "metadata": {},
   "outputs": [],
   "source": [
    "'''\n",
    "data: MNIST\n",
    "  input: 28x28 pixels of value (0->1)\n",
    "  output: a model able to create mnist images\n",
    "\n",
    "framework: tf.keras\n",
    "model: vanilla GAN\n",
    "  layers:\n",
    "    discriminator: 512 relu (0.3 dropout) | 256 relu | 1 sigmoid\n",
    "    generator: 128 relu | 256 relu | 512 relu | 28*28 sigmoid (pixel value 0-1)\n",
    "  params: optimizer adam default learning rate \n",
    "  hyperparams: batch_size, noise_size\n",
    "  algorithm: GAN-2 MLP\n",
    "\n",
    "result: its did learn but not too good: hard to control, easy to overfit\n",
    "  test: train gen until ~ 80 confident => train dis => repeat. Gen image can be recognized, just not goodlooking\n",
    "'''"
   ]
  },
  {
   "cell_type": "code",
   "execution_count": null,
   "id": "45848872-dff7-45d3-bf3f-f6457214dcad",
   "metadata": {},
   "outputs": [],
   "source": [
    "import numpy as np\n",
    "import tensorflow as tf\n",
    "import matplotlib.pyplot as plt\n",
    "import struct\n",
    "\n",
    "with open(\"10kimages.idx3-ubyte\", \"rb\") as file:\n",
    "    magic, num, rows, cols = struct.unpack(\">IIII\", file.read(16))\n",
    "    data = np.frombuffer(file.read(), dtype=np.uint8)\n",
    "    features = data.reshape(num, rows * cols).astype(np.float32) / 255.0  # (10000, 784)\n",
    "\n",
    "with open(\"10klabels.idx1-ubyte\", \"rb\") as file:\n",
    "    magic, num = struct.unpack(\">II\", file.read(8))\n",
    "    labels = np.frombuffer(file.read(), dtype=np.uint8)  # (10000,)\n",
    "\n",
    "indices = np.where(labels == 6)[0]\n",
    "image = features[indices]\n",
    "\n",
    "print(image.shape) # (958, 784)"
   ]
  },
  {
   "cell_type": "code",
   "execution_count": null,
   "id": "384ec09c",
   "metadata": {},
   "outputs": [],
   "source": [
    "noise_size = 128\n",
    "image_size = 28*28\n",
    "batch_size = 958"
   ]
  },
  {
   "cell_type": "code",
   "execution_count": null,
   "id": "262f5852-5351-46e5-99c4-e7f26de5da84",
   "metadata": {},
   "outputs": [],
   "source": [
    "def models():\n",
    "    global dismodel, disopti, genmodel, genopti\n",
    "\n",
    "    dismodel = tf.keras.models.Sequential([\n",
    "        tf.keras.Input(shape=(image_size,)),\n",
    "        tf.keras.layers.Dense(512, activation=\"relu\"),\n",
    "        tf.keras.layers.Dropout(0.3),\n",
    "        tf.keras.layers.Dense(256, activation=\"relu\"),\n",
    "        tf.keras.layers.Dense(1, activation=\"sigmoid\")])\n",
    "    disopti = tf.keras.optimizers.Adam()\n",
    "\n",
    "    genmodel = tf.keras.models.Sequential([\n",
    "        tf.keras.Input(shape=(noise_size,)),\n",
    "        tf.keras.layers.Dense(128, activation=\"relu\"),\n",
    "        tf.keras.layers.Dense(256, activation=\"relu\"),\n",
    "        tf.keras.layers.Dense(512, activation=\"relu\"),\n",
    "        tf.keras.layers.Dense(image_size, activation=\"sigmoid\")])\n",
    "    genopti = tf.keras.optimizers.Adam()\n",
    "\n",
    "models()"
   ]
  },
  {
   "cell_type": "code",
   "execution_count": null,
   "id": "aba3429f",
   "metadata": {},
   "outputs": [],
   "source": [
    "def discriminator(imgs):\n",
    "    return dismodel(imgs, training=True)\n",
    "\n",
    "def generator():\n",
    "    noise = np.random.rand(batch_size, noise_size)\n",
    "    return genmodel(noise, training=True)"
   ]
  },
  {
   "cell_type": "code",
   "execution_count": null,
   "id": "4104c54c",
   "metadata": {},
   "outputs": [],
   "source": [
    "def distrain(iterations):\n",
    "    dislosses = []\n",
    "    for iteration in range(iterations + 1):\n",
    "        with tf.GradientTape() as tape:\n",
    "            real_img = image[np.random.randint(0, image.shape[0], batch_size)]\n",
    "            fake_img = generator()\n",
    "\n",
    "            real_predict = discriminator(real_img)\n",
    "            fake_predict = discriminator(fake_img)\n",
    "            \n",
    "            real_loss = -tf.reduce_mean(tf.math.log(real_predict + 1e-8))\n",
    "            fake_loss = -tf.reduce_mean(tf.math.log((tf.ones_like(fake_predict) - fake_predict) + 1e-8))\n",
    "            BinaryCrossEntropy = real_loss + fake_loss\n",
    "            dislosses.append(BinaryCrossEntropy)\n",
    "            print(f\"iteration {iteration}: loss = {BinaryCrossEntropy}\")\n",
    "\n",
    "        disgrad = tape.gradient(BinaryCrossEntropy, dismodel.trainable_variables)\n",
    "        disopti.apply_gradients(zip(disgrad, dismodel.trainable_variables))\n",
    "    return dislosses\n",
    "\n",
    "dislosses = distrain(0)"
   ]
  },
  {
   "cell_type": "code",
   "execution_count": null,
   "id": "ce4ace17",
   "metadata": {},
   "outputs": [],
   "source": [
    "def gentrain(iterations):\n",
    "    genlosses = []\n",
    "    for iteration in range(iterations + 1):\n",
    "        with tf.GradientTape() as tape:\n",
    "            fake_img = generator()\n",
    "            fake_predict = discriminator(fake_img)\n",
    "\n",
    "            BinaryCrossEntropy = tf.reduce_mean(tf.math.log((tf.ones_like(fake_predict) - fake_predict) + 1e-8))\n",
    "            genlosses.append(BinaryCrossEntropy)\n",
    "            if (iteration % 20 == 0):\n",
    "                print(f\"iteration {iteration}: loss = {BinaryCrossEntropy}\")\n",
    "\n",
    "        gengrad = tape.gradient(BinaryCrossEntropy, genmodel.trainable_variables)\n",
    "        genopti.apply_gradients(zip(gengrad, genmodel.trainable_variables))\n",
    "    return genlosses\n",
    "\n",
    "genlosses = gentrain(200)"
   ]
  },
  {
   "cell_type": "code",
   "execution_count": null,
   "id": "0c894fbd-29c3-4f60-98c3-922afeb1b762",
   "metadata": {},
   "outputs": [],
   "source": [
    "def distest(rows, cols):\n",
    "    data = image[np.random.randint(0, image.shape[0], batch_size)]\n",
    "    real_predict = discriminator(data) \n",
    "    data = tf.reshape(data, (-1, 28, 28)) \n",
    "    \n",
    "    fig, axes = plt.subplots(rows, cols, figsize=(cols * 2, rows * 2))  \n",
    "    \n",
    "    for i in range(rows):  \n",
    "        for j in range(cols):\n",
    "            idx = i * cols + j\n",
    "            img = data[idx]\n",
    "            label = real_predict[idx]\n",
    "            axes[i, j].imshow(img, cmap='gray')\n",
    "            axes[i, j].set_title(f\"Confident: {label}\")\n",
    "            axes[i, j].axis('off')\n",
    "    plt.tight_layout()\n",
    "\n",
    "distest(4, 8)"
   ]
  },
  {
   "cell_type": "code",
   "execution_count": null,
   "id": "da70db4c-23d8-41c4-85ff-5ffd62c0e457",
   "metadata": {},
   "outputs": [],
   "source": [
    "def gentest(rows, cols):\n",
    "    data = generator()\n",
    "    real_predict = discriminator(data) \n",
    "    data = tf.reshape(data, (-1, 28, 28)) \n",
    "    \n",
    "    fig, axes = plt.subplots(rows, cols, figsize=(cols * 2, rows * 2))  \n",
    "    \n",
    "    for i in range(rows):\n",
    "        for j in range(cols):\n",
    "            idx = i * cols + j\n",
    "            img = data[idx]\n",
    "            label = real_predict[idx]\n",
    "            axes[i, j].imshow(img, cmap='gray')\n",
    "            axes[i, j].set_title(f\"Confident: {label}\")\n",
    "            axes[i, j].axis('off')\n",
    "    plt.tight_layout()\n",
    "\n",
    "gentest(4, 8)"
   ]
  },
  {
   "cell_type": "code",
   "execution_count": null,
   "id": "13ce6cab",
   "metadata": {},
   "outputs": [],
   "source": [
    "def gen(rows, cols):\n",
    "    data = generator()\n",
    "    data = tf.reshape(data, (-1, 28, 28))\n",
    "\n",
    "    fig, axes = plt.subplots(rows, cols, figsize=(cols * 2, rows * 2))\n",
    "\n",
    "    for i, ax in enumerate(axes.flat):\n",
    "        ax.imshow(data[i], cmap=\"gray\")\n",
    "        ax.axis(\"off\")\n",
    "\n",
    "gen(4, 8)"
   ]
  },
  {
   "cell_type": "code",
   "execution_count": null,
   "id": "f52d3ad5-9a1b-4c96-b598-27757166a35a",
   "metadata": {},
   "outputs": [],
   "source": [
    "genmodel.save(\"genmodel.keras\")"
   ]
  }
 ],
 "metadata": {
  "kernelspec": {
   "display_name": "Python 3 (ipykernel)",
   "language": "python",
   "name": "python3"
  },
  "language_info": {
   "codemirror_mode": {
    "name": "ipython",
    "version": 3
   },
   "file_extension": ".py",
   "mimetype": "text/x-python",
   "name": "python",
   "nbconvert_exporter": "python",
   "pygments_lexer": "ipython3",
   "version": "3.12.4"
  }
 },
 "nbformat": 4,
 "nbformat_minor": 5
}
